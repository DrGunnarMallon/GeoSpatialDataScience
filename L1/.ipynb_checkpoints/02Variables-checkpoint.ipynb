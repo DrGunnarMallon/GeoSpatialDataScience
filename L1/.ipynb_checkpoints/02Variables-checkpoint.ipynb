{
 "cells": [
  {
   "cell_type": "markdown",
   "id": "2092a2c4-1146-433e-b672-e46ef1eb0b7d",
   "metadata": {},
   "source": [
    "# Variables"
   ]
  },
  {
   "cell_type": "markdown",
   "id": "0c68b502-b7d8-4fce-9938-1682cce2be7c",
   "metadata": {},
   "source": [
    "## What are Variables?\n",
    "\n",
    "* Understanding the Concept of Variables\n",
    "* Why Variables are Important in Programming\n",
    "* Variable Naming Rules and Conventions"
   ]
  },
  {
   "cell_type": "markdown",
   "id": "29201b32-5328-434f-9f39-707f769e0f08",
   "metadata": {},
   "source": [
    "## Data Types\n",
    "* Introduction to Data Types\n",
    "* Common Data Types in Python\n",
    "  * Integer\n",
    "  * Float\n",
    "  * String\n",
    "  * Boolean\n",
    "* Declaring Variables with Data Types"
   ]
  },
  {
   "cell_type": "markdown",
   "id": "f3144ae0-e8de-48fd-b3f9-df32d9e95725",
   "metadata": {},
   "source": [
    "## Variable Assignment\n",
    "* Assigning Values to Variables\n",
    "* Basic Syntax for Assignment\n",
    "* Examples of Variable Assignment"
   ]
  },
  {
   "cell_type": "markdown",
   "id": "66d77961-124e-41fc-bd2f-57382a71678e",
   "metadata": {},
   "source": [
    "## Variable Naming\n",
    "* Guidelines for Naming Variables\n",
    "* Naming Conventions (e.g., snake_case, camelCase)\n",
    "* Choosing Descriptive Variable Names"
   ]
  },
  {
   "cell_type": "markdown",
   "id": "44231a7f-e625-41c2-8f3d-d6247b3954f2",
   "metadata": {},
   "source": [
    "## Variable Operations\n",
    "* Basic Arithmetic Operations\n",
    "  * Addition\n",
    "  * Subtraction\n",
    "  * Multiplication\n",
    "  * Division\n",
    "  * Modulus\n",
    "* String Operations\n",
    "  * Concatenation\n",
    "  * String Interpolation\n",
    "* Boolean Operations\n",
    "  * Comparison Operators (==, !=, <, >, <=, >=)\n",
    "  * Logical Operators (and, or, not)"
   ]
  },
  {
   "cell_type": "markdown",
   "id": "f0daae7b-4296-4098-aace-2a1c11d9aad7",
   "metadata": {},
   "source": [
    "## Dynamic Typing\n",
    "* Understanding Dynamic Typing\n",
    "* How Python Handles Data Types"
   ]
  },
  {
   "cell_type": "markdown",
   "id": "1b551f3e-fafa-4e3c-8106-c98e7deeac84",
   "metadata": {},
   "source": [
    "## Variable Reassignment\n",
    "* Modifying the Value of a Variable\n",
    "* Demonstrating Variable Reassignment"
   ]
  },
  {
   "cell_type": "markdown",
   "id": "927e1751-c36a-49bf-a094-9519951d45b3",
   "metadata": {},
   "source": [
    "## Printing Variables\n",
    "* Using the print Function\n",
    "* Formatting Output"
   ]
  },
  {
   "cell_type": "code",
   "execution_count": null,
   "id": "84963188-4eb5-4806-96ff-5824e79b4f11",
   "metadata": {},
   "outputs": [],
   "source": []
  }
 ],
 "metadata": {
  "kernelspec": {
   "display_name": "Python 3 (ipykernel)",
   "language": "python",
   "name": "python3"
  },
  "language_info": {
   "codemirror_mode": {
    "name": "ipython",
    "version": 3
   },
   "file_extension": ".py",
   "mimetype": "text/x-python",
   "name": "python",
   "nbconvert_exporter": "python",
   "pygments_lexer": "ipython3",
   "version": "3.11.2"
  }
 },
 "nbformat": 4,
 "nbformat_minor": 5
}
