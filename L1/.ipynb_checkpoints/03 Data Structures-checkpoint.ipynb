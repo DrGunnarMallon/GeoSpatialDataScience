{
 "cells": [
  {
   "cell_type": "markdown",
   "id": "6997ed17-f860-427c-a3c5-b8146afebd3b",
   "metadata": {},
   "source": [
    "<img src=\"../images/notebook3_header.png\" width=\"1024\" alt=\"Python for Geospatial Data Science\" style=\"border-radius:10px\"/>"
   ]
  },
  {
   "cell_type": "markdown",
   "id": "b4ee2666-b74b-48f9-8880-e36d108d42af",
   "metadata": {},
   "source": [
    "## Introduction to Data Structures\n",
    "\n",
    "Now that you have learned about variables, you are well on your way to being able to write a complete program in Python. Most of the time, when programming, you don't just want individual variables, but you want to group these together. Think of personal details, you could have individual variables `first_name`, `last_name`, and `email_address`. But it makes sense to group these together. That's where data structures come in. \n",
    "\n",
    "Data structures are fundamental constructs used to organize, store, and manage data efficiently. They provide a way to represent, access, and manipulate data in a structured and organized manner within a computer program.\n",
    "\n",
    "### Why are Data Structures Important?\n",
    "\n",
    "Data structures are essential in computer science and programming for several reasons:\n",
    "\n",
    "* **Efficient Data Storage:** Data structures enable efficient storage of data, reducing memory usage and optimizing storage space.\n",
    "\n",
    "* **Quick Data Retrieval:** Properly chosen data structures facilitate quick and efficient data retrieval, reducing the time complexity of algorithms.\n",
    "\n",
    "* **Data Organization:** They help in organizing data logically, making it easier to manage and maintain.\n",
    "\n",
    "* **Algorithm Design:** Many algorithms and operations depend on the choice of data structure. Choosing the right one can significantly impact the efficiency of your code.\n",
    "\n",
    "* **Real-World Analogies:** Data structures often mimic real-world analogies, making it easier to understand and work with data.\n",
    "\n",
    "### Types of Data Structures\n",
    "\n",
    "There are various types of data structures, each with its own characteristics and use cases. Some common data structures include:\n",
    "\n",
    "**[Lists:](#lists)** Lists are ordered collections of elements where elements can be of different data types and can be dynamically resized. You use lists to store and manage a collection of items of varying types, such as a list of names.\n",
    "\n",
    "**[Tuples:](#tuples)** Tuples are ordered, immutable collections of elements. They are used for storing a fixed set of related data elements, representing coordinates, etc.\n",
    "\n",
    "**[Sets:](#sets)** Sets are collections of unique elements with no specific order. Use sets for storing and managing unique elements, implementing mathematical sets.\n",
    "\n",
    "**[Dictionaries:](dictionaries)** Dictionaries are collections of key-value pairs, where each key is unique and associated with a value. Dictionaries (or dict for short) are used to store data with associated metadata, such as storing user information by their username.\n",
    "\n",
    "We will look at each of the four main data structures in more detail below. Other data structures include ones like **stacks and queues**, **linked lists**, and **trees**. However, we will not cover these in the course as that would be beyond its scope.hat would be beyond its scope. that would be beyond its scope.ture and explore their applications and implementations.\n"
   ]
  },
  {
   "cell_type": "markdown",
   "id": "f70ce0f0-48e7-4d25-8afd-78c6a6b87c67",
   "metadata": {},
   "source": [
    "##  Lists\n",
    "<a id=\"lists\"></a>\n",
    "\n",
    "* What are Lists?\n",
    "* Creating Lists\n",
    "* Accessing List Elements\n",
    "* Modifying Lists\n",
    "* List Operations\n",
    "   * Concatenation\n",
    "   * Repetition\n",
    "   * Slicing\n",
    "* List Methods\n",
    "   * append()\n",
    "   * insert()\n",
    "   * remove()\n",
    "   * pop()\n",
    "   * index()\n",
    "   * count()\n",
    "   * sort()\n",
    "   * reverse()\n",
    "* Nested Lists\n",
    "\n",
    "### Exercises\n",
    "\n",
    "Create a list of your favorite fruits and perform various operations like adding, removing, and sorting elements."
   ]
  },
  {
   "cell_type": "code",
   "execution_count": null,
   "id": "ae7ad0d8-961d-4e50-a9ec-84f2704fc2c1",
   "metadata": {},
   "outputs": [],
   "source": []
  },
  {
   "cell_type": "markdown",
   "id": "3688b51a-bf1f-4c29-8c9c-99c5e4b47118",
   "metadata": {},
   "source": [
    "## Tuples\n",
    "<a id=\"tuples\"></a>\n",
    "\n",
    "* What are Tuples?\n",
    "* Creating Tuples\n",
    "* Accessing Tuple Elements\n",
    "* Modifying Tuples (Immutability)\n",
    "* Tuple Packing and Unpacking\n",
    "* Tuple Methods\n",
    "   * count()\n",
    "   * index()\n",
    "\n",
    "### Exercises\n",
    "\n",
    "Create a tuple representing coordinates (x, y) and perform packing and unpacking operations."
   ]
  },
  {
   "cell_type": "code",
   "execution_count": null,
   "id": "353a433d-8d47-46b2-acd3-fe0b6786ae9a",
   "metadata": {},
   "outputs": [],
   "source": []
  },
  {
   "cell_type": "markdown",
   "id": "f481a5b0-b6af-4bc5-a810-e91b6b044614",
   "metadata": {},
   "source": [
    "## Sets\n",
    "<a id=\"sets\"></a>\n",
    "\n",
    "* What are Sets?\n",
    "* Creating Sets\n",
    "* Set Operations\n",
    "   * Union\n",
    "   * Intersection\n",
    "   * Difference\n",
    "   * Symmetric Difference\n",
    "* Set Methods\n",
    "   * add()\n",
    "   * remove()\n",
    "   * discard()\n",
    "   * clear()\n",
    "\n",
    "### Exercises\n",
    "\n",
    "Create two sets and perform set operations like union and intersection."
   ]
  },
  {
   "cell_type": "code",
   "execution_count": null,
   "id": "141be66e-e0ab-4efb-a49e-2be183aa2747",
   "metadata": {},
   "outputs": [],
   "source": []
  },
  {
   "cell_type": "markdown",
   "id": "464698e3-8035-475b-ac41-8769bcf89a5c",
   "metadata": {},
   "source": [
    "## Dictionaries\n",
    "<a id=\"dictionaries\"></a>\n",
    "\n",
    "* What are Dictionaries?\n",
    "* Creating Dictionaries\n",
    "* Accessing Dictionary Items\n",
    "* Modifying Dictionaries\n",
    "* Dictionary Methods\n",
    "   * keys()\n",
    "   * values()\n",
    "   * items()\n",
    "   * get()\n",
    "   * pop()\n",
    "* Iterating Through Dictionaries\n",
    "\n",
    "### Exercises\n",
    "\n",
    "Create a dictionary representing a contact list with names and phone numbers. Perform dictionary operations to retrieve and update entries.and phone numbers. Perform dictionary operations to retrieve and update entries.. Perform dictionary operations to retrieve and update entries."
   ]
  },
  {
   "cell_type": "code",
   "execution_count": null,
   "id": "4bbb7c53-49f0-42bb-ab61-3d7567389d3d",
   "metadata": {},
   "outputs": [],
   "source": []
  }
 ],
 "metadata": {
  "kernelspec": {
   "display_name": "Python 3 (ipykernel)",
   "language": "python",
   "name": "python3"
  },
  "language_info": {
   "codemirror_mode": {
    "name": "ipython",
    "version": 3
   },
   "file_extension": ".py",
   "mimetype": "text/x-python",
   "name": "python",
   "nbconvert_exporter": "python",
   "pygments_lexer": "ipython3",
   "version": "3.11.5"
  }
 },
 "nbformat": 4,
 "nbformat_minor": 5
}
