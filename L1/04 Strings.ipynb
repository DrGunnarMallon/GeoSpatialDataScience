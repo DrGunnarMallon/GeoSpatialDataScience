{
 "cells": [
  {
   "cell_type": "markdown",
   "id": "443e75d4-169e-41d7-ba0b-4c2e87f0c443",
   "metadata": {},
   "source": [
    "<img src=\"../images/notebook4_header.png\" width=\"1024\" alt=\"Python for Geospatial Data Science\" style=\"border-radius:10px\"/>"
   ]
  },
  {
   "cell_type": "code",
   "execution_count": null,
   "id": "0d13c823-3479-4450-a1cc-f4eb4c8b6631",
   "metadata": {},
   "outputs": [],
   "source": []
  }
 ],
 "metadata": {
  "kernelspec": {
   "display_name": "Python 3 (ipykernel)",
   "language": "python",
   "name": "python3"
  },
  "language_info": {
   "codemirror_mode": {
    "name": "ipython",
    "version": 3
   },
   "file_extension": ".py",
   "mimetype": "text/x-python",
   "name": "python",
   "nbconvert_exporter": "python",
   "pygments_lexer": "ipython3",
   "version": "3.11.5"
  }
 },
 "nbformat": 4,
 "nbformat_minor": 5
}
