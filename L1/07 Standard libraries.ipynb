{
 "cells": [
  {
   "cell_type": "markdown",
   "id": "adb5db98-573d-4766-96ae-f29bd7323989",
   "metadata": {},
   "source": [
    "<img src=\"../images/notebook7_header.png\" width=\"1024\" alt=\"Python for Geospatial Data Science\" style=\"border-radius:10px\"/>"
   ]
  },
  {
   "cell_type": "code",
   "execution_count": null,
   "id": "b12145e0-0753-42af-b88c-063972dd467c",
   "metadata": {},
   "outputs": [],
   "source": []
  }
 ],
 "metadata": {
  "kernelspec": {
   "display_name": "Python 3 (ipykernel)",
   "language": "python",
   "name": "python3"
  },
  "language_info": {
   "codemirror_mode": {
    "name": "ipython",
    "version": 3
   },
   "file_extension": ".py",
   "mimetype": "text/x-python",
   "name": "python",
   "nbconvert_exporter": "python",
   "pygments_lexer": "ipython3",
   "version": "3.11.5"
  }
 },
 "nbformat": 4,
 "nbformat_minor": 5
}
