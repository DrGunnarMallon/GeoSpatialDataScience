{
 "cells": [
  {
   "cell_type": "markdown",
   "id": "d6dbed97-8bad-4e62-8dfc-51d4331feead",
   "metadata": {},
   "source": [
    "# Third party modules"
   ]
  },
  {
   "cell_type": "code",
   "execution_count": null,
   "id": "43c2da6d-2c54-4981-97eb-00b5eaf40f67",
   "metadata": {},
   "outputs": [],
   "source": []
  }
 ],
 "metadata": {
  "kernelspec": {
   "display_name": "Python 3 (ipykernel)",
   "language": "python",
   "name": "python3"
  },
  "language_info": {
   "codemirror_mode": {
    "name": "ipython",
    "version": 3
   },
   "file_extension": ".py",
   "mimetype": "text/x-python",
   "name": "python",
   "nbconvert_exporter": "python",
   "pygments_lexer": "ipython3",
   "version": "3.11.5"
  }
 },
 "nbformat": 4,
 "nbformat_minor": 5
}
